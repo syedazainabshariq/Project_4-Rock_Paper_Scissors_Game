{
  "nbformat": 4,
  "nbformat_minor": 0,
  "metadata": {
    "colab": {
      "provenance": [],
      "authorship_tag": "ABX9TyONZUi+rg+zzu/jHj8v4kVJ",
      "include_colab_link": true
    },
    "kernelspec": {
      "name": "python3",
      "display_name": "Python 3"
    },
    "language_info": {
      "name": "python"
    }
  },
  "cells": [
    {
      "cell_type": "markdown",
      "metadata": {
        "id": "view-in-github",
        "colab_type": "text"
      },
      "source": [
        "<a href=\"https://colab.research.google.com/github/syedazainabshariq/Project_4-Rock_Paper_Scissors_Game/blob/main/Project_4.ipynb\" target=\"_parent\"><img src=\"https://colab.research.google.com/assets/colab-badge.svg\" alt=\"Open In Colab\"/></a>"
      ]
    },
    {
      "cell_type": "markdown",
      "source": [
        "# Project 4\n",
        "## Rock, paper, scissors Python Project"
      ],
      "metadata": {
        "id": "eRlqiTODc3LZ"
      }
    },
    {
      "cell_type": "code",
      "source": [
        "import random\n",
        "\n",
        "def rock_paper_scissors():\n",
        "    print(\"Welcome to Rock, Paper, Scissors!\")\n",
        "    print(\"Rules: Rock beats Scissors, Scissors beats Paper, and Paper beats Rock.\")\n",
        "    print(\"Type 'Rock', 'Paper', or 'Scissors' to play. Type 'Quit' to exit the game.\")\n",
        "\n",
        "    choices = [\"Rock\", \"Paper\", \"Scissors\"]\n",
        "\n",
        "    while True:\n",
        "        user_choice = input(\"Your choice: \").capitalize()\n",
        "        if user_choice == \"Quit\":\n",
        "            print(\"Thanks for playing! Goodbye!\")\n",
        "            break\n",
        "\n",
        "        if user_choice not in choices:\n",
        "            print(\"Invalid choice. Please choose 'Rock', 'Paper', or 'Scissors'.\")\n",
        "            continue\n",
        "\n",
        "        computer_choice = random.choice(choices)\n",
        "        print(f\"Computer chose: {computer_choice}\")\n",
        "\n",
        "        if user_choice == computer_choice:\n",
        "            print(\"It's a tie!\")\n",
        "        elif (user_choice == \"Rock\" and computer_choice == \"Scissors\") or \\\n",
        "             (user_choice == \"Scissors\" and computer_choice == \"Paper\") or \\\n",
        "             (user_choice == \"Paper\" and computer_choice == \"Rock\"):\n",
        "            print(\"You win!\")\n",
        "        else:\n",
        "            print(\"You lose!\")\n",
        "        print(\"-\" * 30)\n",
        "\n",
        "rock_paper_scissors()\n"
      ],
      "metadata": {
        "colab": {
          "base_uri": "https://localhost:8080/"
        },
        "id": "iXI0pF5TgM61",
        "outputId": "a33c9995-d4f6-438b-a017-a0a99d003c08"
      },
      "execution_count": null,
      "outputs": [
        {
          "output_type": "stream",
          "name": "stdout",
          "text": [
            "Welcome to Rock, Paper, Scissors!\n",
            "Rules: Rock beats Scissors, Scissors beats Paper, and Paper beats Rock.\n",
            "Type 'Rock', 'Paper', or 'Scissors' to play. Type 'Quit' to exit the game.\n",
            "Your choice: scissors\n",
            "Computer chose: Paper\n",
            "You win!\n",
            "------------------------------\n",
            "Your choice: quit\n",
            "Thanks for playing! Goodbye!\n"
          ]
        }
      ]
    }
  ]
}